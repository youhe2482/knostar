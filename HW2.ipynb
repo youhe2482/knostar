{
 "cells": [
  {
   "cell_type": "markdown",
   "metadata": {},
   "source": [
    "# HW2"
   ]
  },
  {
   "cell_type": "code",
   "execution_count": 38,
   "metadata": {},
   "outputs": [
    {
     "name": "stdout",
     "output_type": "stream",
     "text": [
      "['太后', '皇后', '纯妃', '小嘉嫔', '舒妃', '皇上']\n"
     ]
    }
   ],
   "source": [
    "guest = ['太后', '皇后', '纯妃', '小嘉嫔', '舒妃', '皇上']\n",
    "print(guest)"
   ]
  },
  {
   "cell_type": "code",
   "execution_count": 39,
   "metadata": {},
   "outputs": [
    {
     "name": "stdout",
     "output_type": "stream",
     "text": [
      "['太后', '皇后', '纯妃', '小嘉嫔', '舒妃', '皇上']：春节将至，请大家过来延禧宫小聚。\n"
     ]
    }
   ],
   "source": [
    "#邀请名单\n",
    "print(\"{}：春节将至，请大家过来延禧宫小聚。\".format(guest))"
   ]
  },
  {
   "cell_type": "code",
   "execution_count": 40,
   "metadata": {},
   "outputs": [
    {
     "name": "stdout",
     "output_type": "stream",
     "text": [
      "因故不能参加：小嘉嫔\n",
      "['太后', '皇后', '纯妃', '尔晴', '舒妃', '皇上']：春节将至，请大家过来延禧宫小聚。\n"
     ]
    }
   ],
   "source": [
    "#更换名单\n",
    "print(\"因故不能参加：{}\".format(guest[3]))\n",
    "guest[3] = \"尔晴\"\n",
    "print(\"{}：春节将至，请大家过来延禧宫小聚。\".format(guest))"
   ]
  },
  {
   "cell_type": "code",
   "execution_count": 41,
   "metadata": {},
   "outputs": [
    {
     "name": "stdout",
     "output_type": "stream",
     "text": [
      "['哥哥', '太后', '皇后', '纯妃', '尔晴', '舒妃', '皇上', '傅恒']：春节将至，请大家过来延禧宫小聚。\n",
      "本次宴会共邀请8人。\n"
     ]
    }
   ],
   "source": [
    "#增加人员\n",
    "guest.insert(0,\"哥哥\")\n",
    "guest.append(\"傅恒\")\n",
    "print(\"{}：春节将至，请大家过来延禧宫小聚。\".format(guest))\n",
    "print(\"本次宴会共邀请{}人。\".format(len(guest)))"
   ]
  },
  {
   "cell_type": "code",
   "execution_count": 15,
   "metadata": {},
   "outputs": [],
   "source": [
    "#名单备份\n",
    "new_guest = guest[:]"
   ]
  },
  {
   "cell_type": "code",
   "execution_count": 42,
   "metadata": {},
   "outputs": [
    {
     "name": "stdout",
     "output_type": "stream",
     "text": [
      "名单前三人：['哥哥', '太后', '皇后']\n",
      "名单后三人：['舒妃', '皇上', '傅恒']\n"
     ]
    }
   ],
   "source": [
    "#明玉查看\n",
    "print(\"名单前三人：{}\".format(guest[:3]))\n",
    "print(\"名单后三人：{}\".format(guest[-3:]))"
   ]
  },
  {
   "cell_type": "code",
   "execution_count": 43,
   "metadata": {},
   "outputs": [
    {
     "name": "stdout",
     "output_type": "stream",
     "text": [
      "['傅恒', '皇上', '舒妃', '尔晴', '纯妃', '皇后', '太后', '哥哥']\n"
     ]
    }
   ],
   "source": [
    "#颠倒顺序\n",
    "guest.reverse()\n",
    "print(guest)"
   ]
  },
  {
   "cell_type": "code",
   "execution_count": 44,
   "metadata": {},
   "outputs": [],
   "source": [
    "#清减名单\n",
    "no_list1 = guest.pop(0)\n",
    "no_list2 = guest.pop(0)\n",
    "no_list3 = guest.pop(0)\n",
    "no_list4 = guest.pop(1)\n",
    "no_list5 = guest.pop()\n",
    "no_list6 = guest.pop()"
   ]
  },
  {
   "cell_type": "code",
   "execution_count": 45,
   "metadata": {},
   "outputs": [
    {
     "name": "stdout",
     "output_type": "stream",
     "text": [
      "傅恒,皇上,舒妃,纯妃,哥哥,太后：很遗憾，本次宴会你落选了。\n"
     ]
    }
   ],
   "source": [
    "print(\"{},{},{},{},{},{}：很遗憾，本次宴会你落选了。\".format(no_list1, no_list2, no_list3, no_list4, no_list5, no_list6))"
   ]
  },
  {
   "cell_type": "code",
   "execution_count": 46,
   "metadata": {},
   "outputs": [
    {
     "name": "stdout",
     "output_type": "stream",
     "text": [
      "['尔晴', '皇后']：你们依然被我请吃饭。\n"
     ]
    }
   ],
   "source": [
    "print(\"{}：你们依然被我请吃饭。\".format(guest))"
   ]
  },
  {
   "cell_type": "code",
   "execution_count": 47,
   "metadata": {},
   "outputs": [],
   "source": [
    "#删除名单\n",
    "del guest"
   ]
  },
  {
   "cell_type": "code",
   "execution_count": 48,
   "metadata": {},
   "outputs": [
    {
     "ename": "NameError",
     "evalue": "name 'guest' is not defined",
     "output_type": "error",
     "traceback": [
      "\u001b[0;31m---------------------------------------------------------------------------\u001b[0m",
      "\u001b[0;31mNameError\u001b[0m                                 Traceback (most recent call last)",
      "\u001b[0;32m<ipython-input-48-55a58f2e981c>\u001b[0m in \u001b[0;36m<module>\u001b[0;34m()\u001b[0m\n\u001b[0;32m----> 1\u001b[0;31m \u001b[0mprint\u001b[0m\u001b[0;34m(\u001b[0m\u001b[0mguest\u001b[0m\u001b[0;34m)\u001b[0m\u001b[0;34m\u001b[0m\u001b[0m\n\u001b[0m",
      "\u001b[0;31mNameError\u001b[0m: name 'guest' is not defined"
     ]
    }
   ],
   "source": [
    "print(guest)"
   ]
  },
  {
   "cell_type": "code",
   "execution_count": null,
   "metadata": {},
   "outputs": [],
   "source": []
  }
 ],
 "metadata": {
  "kernelspec": {
   "display_name": "Python 3",
   "language": "python",
   "name": "python3"
  },
  "language_info": {
   "codemirror_mode": {
    "name": "ipython",
    "version": 3
   },
   "file_extension": ".py",
   "mimetype": "text/x-python",
   "name": "python",
   "nbconvert_exporter": "python",
   "pygments_lexer": "ipython3",
   "version": "3.6.5"
  }
 },
 "nbformat": 4,
 "nbformat_minor": 2
}
